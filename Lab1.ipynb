{
 "cells": [
  {
   "cell_type": "markdown",
   "metadata": {},
   "source": [
    "## Enable Resource Providers\n",
    "\n",
    "There are some resource providers that must be registered in your Azure subscription. Follow these steps to ensure that they're registered.\n",
    "\n",
    "Sign into the Azure portal at https://portal.azure.com using the Microsoft credentials associated with your subscription.\n",
    "On the Home page, select Subscriptions (or expand the ≡ menu, select All Services, and in the General category, select Subscriptions).\n",
    "Select your Azure subscription (if you have multiple subscriptions, select the one you created by redeeming your Azure Pass).\n",
    "In the blade for your subscription, in the pane on the left, in the Settings section, select Resource providers.\n",
    "In the list of resource providers, ensure the following providers are registered (if not, select them and click register):\n",
    "\n",
    "* Microsoft.Web\n",
    "* Microsoft.ManagedIdentity\n",
    "* Microsoft.Search\n",
    "* Microsoft.Storage\n",
    "* Microsoft.CognitiveServices\n",
    "* Microsoft.AlertsManagement\n",
    "* microsoft.insights\n",
    "* Microsoft.KeyVault\n",
    "* Microsoft.ContainerInstance"
   ]
  },
  {
   "cell_type": "markdown",
   "metadata": {},
   "source": [
    "## Provision an Azure AI Services resource\n",
    "\n",
    "Azure AI Services are cloud-based services that encapsulate artificial intelligence capabilities you can incorporate into your applications. You can provision individual Azure AI services resources for specific APIs (for example, **Language** or **Vision**), or you can provision a single **Azure AI Services** resource that provides access to multiple Azure AI services APIs through a single endpoint and key. In this case, you'll use a single **Azure AI Services** resource.\n",
    "\n",
    "1. Open the Azure portal at `https://portal.azure.com`, and sign in using the Microsoft account associated with your Azure subscription.\n",
    "2. In the top search bar, search for *Azure AI services*, select **Azure AI Services**, and create an Azure AI services multi-service account resource with the following settings:\n",
    "    - **Subscription**: *Your Azure subscription*\n",
    "    - **Resource group**: *Choose or create a resource group (if you are using a restricted subscription, you may not have permission to create a new resource group - use the one provided)*\n",
    "    - **Region**: *Choose any available region*\n",
    "    - **Name**: *Enter a unique name*\n",
    "    - **Pricing tier**: Standard S0\n",
    "3. Select the required checkboxes and create the resource.\n",
    "4. Wait for deployment to complete, and then view the deployment details.\n",
    "5. Go to the resource and view its **Keys and Endpoint** page. This page contains the information that you will need to connect to your resource and use it from applications you develop. Specifically:\n",
    "    - An HTTP *endpoint* to which client applications can send requests.\n",
    "    - Two *keys* that can be used for authentication (client applications can use either key to authenticate).\n",
    "    - The *location* where the resource is hosted. This is required for requests to some (but not all) APIs.\n",
    "\n",
    "## Use a REST Interface\n",
    "\n",
    "The Azure AI services APIs are REST-based, so you can consume them by submitting JSON requests over HTTP. In this example, you'll explore a console application that uses the **Language** REST API to perform language detection; but the basic principle is the same for all of the APIs supported by the Azure AI Services resource.\n"
   ]
  },
  {
   "cell_type": "code",
   "execution_count": null,
   "metadata": {},
   "outputs": [],
   "source": [
    "COG_SERVICE_ENDPOINT=\"your_cognitive_services_endpoint\"\n",
    "COG_SERVICE_KEY=\"your_cognitive_services_key\""
   ]
  },
  {
   "cell_type": "code",
   "execution_count": 2,
   "metadata": {},
   "outputs": [],
   "source": [
    "COG_SERVICE_ENDPOINT=\"https://testaianshuooo7.cognitiveservices.azure.com/\"\n",
    "COG_SERVICE_KEY=\"a2c143d9d33e404488839fe03c5539c6\""
   ]
  },
  {
   "cell_type": "code",
   "execution_count": 10,
   "metadata": {},
   "outputs": [],
   "source": [
    "import os\n",
    "import http.client, base64, json, urllib\n",
    "from urllib import request, parse, error\n"
   ]
  },
  {
   "cell_type": "code",
   "execution_count": 11,
   "metadata": {},
   "outputs": [
    {
     "name": "stdout",
     "output_type": "stream",
     "text": [
      "{\n",
      "  \"documents\": [\n",
      "    {\n",
      "      \"id\": 1,\n",
      "      \"text\": \"test I love poland\"\n",
      "    }\n",
      "  ]\n",
      "}\n"
     ]
    }
   ],
   "source": [
    "text = input (\"Enter some text\")\n",
    "jsonBody = {\n",
    "            \"documents\":[\n",
    "                {\"id\": 1,\n",
    "                 \"text\": text}\n",
    "            ]\n",
    "        }\n",
    "\n",
    "# Let's take a look at the JSON we'll send to the service\n",
    "print(json.dumps(jsonBody, indent=2))"
   ]
  },
  {
   "cell_type": "code",
   "execution_count": 31,
   "metadata": {},
   "outputs": [
    {
     "name": "stdout",
     "output_type": "stream",
     "text": [
      "{\"documents\":[{\"id\":\"1\",\"detectedLanguage\":{\"name\":\"English\",\"iso6391Name\":\"en\",\"confidenceScore\":1.0},\"warnings\":[]}],\"errors\":[],\"modelVersion\":\"2024-04-01\"}\n"
     ]
    }
   ],
   "source": [
    "# Make an HTTP request to the REST interface\n",
    "uri = COG_SERVICE_ENDPOINT.rstrip('/').replace('https://', '')\n",
    "conn = http.client.HTTPSConnection(uri)\n",
    "\n",
    "# Add the authentication key to the request header\n",
    "headers = {\n",
    "    'Content-Type': 'application/json',\n",
    "    'Ocp-Apim-Subscription-Key': COG_SERVICE_KEY\n",
    "}\n",
    "\n",
    "# Use the Text Analytics language API\n",
    "conn.request(\"POST\", \"/text/analytics/v3.1/languages?\", str(jsonBody).encode('utf-8'), headers)\n",
    "\n",
    "# Send the request\n",
    "response = conn.getresponse()\n",
    "data = response.read().decode(\"UTF-8\")\n",
    "\n",
    "print(data)"
   ]
  },
  {
   "cell_type": "code",
   "execution_count": 32,
   "metadata": {},
   "outputs": [
    {
     "name": "stdout",
     "output_type": "stream",
     "text": [
      "{\n",
      "  \"documents\": [\n",
      "    {\n",
      "      \"id\": \"1\",\n",
      "      \"detectedLanguage\": {\n",
      "        \"name\": \"English\",\n",
      "        \"iso6391Name\": \"en\",\n",
      "        \"confidenceScore\": 1.0\n",
      "      },\n",
      "      \"warnings\": []\n",
      "    }\n",
      "  ],\n",
      "  \"errors\": [],\n",
      "  \"modelVersion\": \"2024-04-01\"\n",
      "}\n",
      "\n",
      "Language: English\n"
     ]
    }
   ],
   "source": [
    "# If the call was successful, get the response\n",
    "if response.status == 200:\n",
    "\n",
    "    # Display the JSON response in full (just so we can see it)\n",
    "    results = json.loads(data)\n",
    "    print(json.dumps(results, indent=2))\n",
    "\n",
    "    # Extract the detected language name for each document\n",
    "    for document in results[\"documents\"]:\n",
    "        print(\"\\nLanguage:\", document[\"detectedLanguage\"][\"name\"])"
   ]
  },
  {
   "cell_type": "markdown",
   "metadata": {},
   "source": [
    "## Use an SDK\n",
    "\n",
    "You can write code that consumes Azure AI services REST APIs directly, but there are software development kits (SDKs) for many popular programming languages, including Microsoft C#, Python, and Node.js. Using an SDK can greatly simplify development of applications that consume Azure AI services.\n",
    "\n"
   ]
  },
  {
   "cell_type": "code",
   "execution_count": 20,
   "metadata": {},
   "outputs": [
    {
     "name": "stderr",
     "output_type": "stream",
     "text": [
      "WARNING: Ignoring invalid distribution -rotobuf (c:\\users\\anshu pandey\\appdata\\roaming\\python\\python310\\site-packages)\n",
      "WARNING: Ignoring invalid distribution -ensorflow-intel (c:\\users\\anshu pandey\\appdata\\roaming\\python\\python310\\site-packages)\n",
      "WARNING: Ignoring invalid distribution -rotobuf (c:\\users\\anshu pandey\\appdata\\roaming\\python\\python310\\site-packages)\n",
      "WARNING: Ignoring invalid distribution -ensorflow-intel (c:\\users\\anshu pandey\\appdata\\roaming\\python\\python310\\site-packages)\n",
      "WARNING: Ignoring invalid distribution -rotobuf (c:\\users\\anshu pandey\\appdata\\roaming\\python\\python310\\site-packages)\n",
      "WARNING: Ignoring invalid distribution -ensorflow-intel (c:\\users\\anshu pandey\\appdata\\roaming\\python\\python310\\site-packages)\n",
      "WARNING: Ignoring invalid distribution -rotobuf (c:\\users\\anshu pandey\\appdata\\roaming\\python\\python310\\site-packages)\n",
      "WARNING: Ignoring invalid distribution -ensorflow-intel (c:\\users\\anshu pandey\\appdata\\roaming\\python\\python310\\site-packages)\n",
      "WARNING: Ignoring invalid distribution -rotobuf (c:\\users\\anshu pandey\\appdata\\roaming\\python\\python310\\site-packages)\n",
      "WARNING: Ignoring invalid distribution -ensorflow-intel (c:\\users\\anshu pandey\\appdata\\roaming\\python\\python310\\site-packages)\n",
      "WARNING: Ignoring invalid distribution -rotobuf (c:\\users\\anshu pandey\\appdata\\roaming\\python\\python310\\site-packages)\n",
      "WARNING: Ignoring invalid distribution -ensorflow-intel (c:\\users\\anshu pandey\\appdata\\roaming\\python\\python310\\site-packages)\n",
      "WARNING: Ignoring invalid distribution -rotobuf (c:\\users\\anshu pandey\\appdata\\roaming\\python\\python310\\site-packages)\n",
      "WARNING: Ignoring invalid distribution -ensorflow-intel (c:\\users\\anshu pandey\\appdata\\roaming\\python\\python310\\site-packages)\n"
     ]
    }
   ],
   "source": [
    "!pip install azure-ai-textanalytics==5.3.0 --quiet"
   ]
  },
  {
   "cell_type": "code",
   "execution_count": 27,
   "metadata": {},
   "outputs": [],
   "source": [
    "import os\n",
    "from azure.ai.textanalytics import TextAnalyticsClient\n",
    "from azure.core.credentials import AzureKeyCredential"
   ]
  },
  {
   "cell_type": "code",
   "execution_count": 28,
   "metadata": {},
   "outputs": [],
   "source": [
    "# Create client using endpoint and key\n",
    "credential = AzureKeyCredential(COG_SERVICE_KEY)\n",
    "client = TextAnalyticsClient(endpoint=COG_SERVICE_ENDPOINT, credential=credential)\n",
    "\n",
    "# Call the service to get the detected language\n",
    "detectedLanguage = client.detect_language(documents = [text])[0]"
   ]
  },
  {
   "cell_type": "code",
   "execution_count": 30,
   "metadata": {},
   "outputs": [
    {
     "name": "stdout",
     "output_type": "stream",
     "text": [
      "English\n"
     ]
    }
   ],
   "source": [
    "print(detectedLanguage.primary_language.name)"
   ]
  },
  {
   "cell_type": "markdown",
   "metadata": {},
   "source": [
    "# Analyze Text"
   ]
  },
  {
   "cell_type": "code",
   "execution_count": 3,
   "metadata": {},
   "outputs": [],
   "source": [
    "# import namespaces\n",
    "from azure.core.credentials import AzureKeyCredential\n",
    "from azure.ai.textanalytics import TextAnalyticsClient"
   ]
  },
  {
   "cell_type": "code",
   "execution_count": 4,
   "metadata": {},
   "outputs": [],
   "source": [
    "# Create client using endpoint and key\n",
    "credential = AzureKeyCredential(COG_SERVICE_KEY)\n",
    "cog_client = TextAnalyticsClient(endpoint=COG_SERVICE_ENDPOINT, credential=credential)"
   ]
  },
  {
   "cell_type": "code",
   "execution_count": null,
   "metadata": {},
   "outputs": [],
   "source": []
  },
  {
   "cell_type": "markdown",
   "metadata": {},
   "source": []
  }
 ],
 "metadata": {
  "kernelspec": {
   "display_name": "base",
   "language": "python",
   "name": "python3"
  },
  "language_info": {
   "codemirror_mode": {
    "name": "ipython",
    "version": 3
   },
   "file_extension": ".py",
   "mimetype": "text/x-python",
   "name": "python",
   "nbconvert_exporter": "python",
   "pygments_lexer": "ipython3",
   "version": "3.10.9"
  }
 },
 "nbformat": 4,
 "nbformat_minor": 2
}
