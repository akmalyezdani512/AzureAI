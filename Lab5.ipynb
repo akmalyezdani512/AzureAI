{
  "cells": [
    {
      "cell_type": "markdown",
      "metadata": {
        "id": "zTo_sNSjuANH"
      },
      "source": [
        "# Create a search index in Azure AI Search using the Azure SDK for Python"
      ]
    },
    {
      "cell_type": "markdown",
      "metadata": {
        "id": "uTF2pH1DuANJ"
      },
      "source": [
        "This notebook steps through creating, loading, and querying an index in Azure AI Search index by calling the azure-search-documents library in the Azure SDK for Python."
      ]
    },
    {
      "cell_type": "markdown",
      "metadata": {
        "id": "lpUZlJEnuANJ"
      },
      "source": [
        "## Install packages and set variables"
      ]
    },
    {
      "cell_type": "code",
      "execution_count": 1,
      "metadata": {
        "colab": {
          "base_uri": "https://localhost:8080/"
        },
        "id": "ApUbpkpeuANJ",
        "outputId": "69db0fbd-8f5b-49c4-fe76-7c823683d36e"
      },
      "outputs": [
        {
          "name": "stdout",
          "output_type": "stream",
          "text": [
            "\u001b[2K     \u001b[90m━━━━━━━━━━━━━━━━━━━━━━━━━━━━━━━━━━━━━━━━\u001b[0m \u001b[32m315.3/315.3 kB\u001b[0m \u001b[31m5.2 MB/s\u001b[0m eta \u001b[36m0:00:00\u001b[0m\n",
            "\u001b[2K     \u001b[90m━━━━━━━━━━━━━━━━━━━━━━━━━━━━━━━━━━━━━━━━\u001b[0m \u001b[32m194.3/194.3 kB\u001b[0m \u001b[31m8.3 MB/s\u001b[0m eta \u001b[36m0:00:00\u001b[0m\n",
            "\u001b[2K     \u001b[90m━━━━━━━━━━━━━━━━━━━━━━━━━━━━━━━━━━━━━━━━\u001b[0m \u001b[32m41.7/41.7 kB\u001b[0m \u001b[31m4.3 MB/s\u001b[0m eta \u001b[36m0:00:00\u001b[0m\n",
            "\u001b[2K     \u001b[90m━━━━━━━━━━━━━━━━━━━━━━━━━━━━━━━━━━━━━━━━\u001b[0m \u001b[32m166.7/166.7 kB\u001b[0m \u001b[31m3.8 MB/s\u001b[0m eta \u001b[36m0:00:00\u001b[0m\n",
            "\u001b[2K     \u001b[90m━━━━━━━━━━━━━━━━━━━━━━━━━━━━━━━━━━━━━━━━\u001b[0m \u001b[32m103.0/103.0 kB\u001b[0m \u001b[31m6.8 MB/s\u001b[0m eta \u001b[36m0:00:00\u001b[0m\n",
            "\u001b[?25h"
          ]
        }
      ],
      "source": [
        "! pip install azure-search-documents==11.6.0b1 --quiet\n",
        "! pip install azure-identity --quiet\n",
        "! pip install python-dotenv --quiet"
      ]
    },
    {
      "cell_type": "code",
      "execution_count": 2,
      "metadata": {
        "id": "Hh6JyPKNuANK"
      },
      "outputs": [],
      "source": [
        "# Provide variables\n",
        "search_endpoint: str = \"YOUR_ENDPOINT\"\n",
        "search_api_key: str = \"YOUR_KEY\"\n",
        "index_name: str = \"hotels-quickstart\""
      ]
    },
    {
      "cell_type": "markdown",
      "metadata": {
        "id": "m8R6r7vSuANL"
      },
      "source": [
        "## Create an index"
      ]
    },
    {
      "cell_type": "code",
      "execution_count": 3,
      "metadata": {
        "colab": {
          "base_uri": "https://localhost:8080/"
        },
        "id": "bintSyWwuANL",
        "outputId": "6e14c655-9b03-4237-8a7d-ad744de3e464"
      },
      "outputs": [
        {
          "name": "stdout",
          "output_type": "stream",
          "text": [
            " hotels-quickstart created\n"
          ]
        }
      ],
      "source": [
        "from azure.core.credentials import AzureKeyCredential\n",
        "\n",
        "credential = AzureKeyCredential(search_api_key)\n",
        "\n",
        "from azure.search.documents.indexes import SearchIndexClient\n",
        "from azure.search.documents import SearchClient\n",
        "from azure.search.documents.indexes.models import (\n",
        "    ComplexField,\n",
        "    SimpleField,\n",
        "    SearchFieldDataType,\n",
        "    SearchableField,\n",
        "    SearchIndex\n",
        ")\n",
        "\n",
        "# Create a search schema\n",
        "index_client = SearchIndexClient(\n",
        "    endpoint=search_endpoint, credential=credential)\n",
        "fields = [\n",
        "        SimpleField(name=\"HotelId\", type=SearchFieldDataType.String, key=True),\n",
        "        SearchableField(name=\"HotelName\", type=SearchFieldDataType.String, sortable=True),\n",
        "        SearchableField(name=\"Description\", type=SearchFieldDataType.String, analyzer_name=\"en.lucene\"),\n",
        "        SearchableField(name=\"Description_fr\", type=SearchFieldDataType.String, analyzer_name=\"fr.lucene\"),\n",
        "        SearchableField(name=\"Category\", type=SearchFieldDataType.String, facetable=True, filterable=True, sortable=True),\n",
        "\n",
        "        SearchableField(name=\"Tags\", collection=True, type=SearchFieldDataType.String, facetable=True, filterable=True),\n",
        "\n",
        "        SimpleField(name=\"ParkingIncluded\", type=SearchFieldDataType.Boolean, facetable=True, filterable=True, sortable=True),\n",
        "        SimpleField(name=\"LastRenovationDate\", type=SearchFieldDataType.DateTimeOffset, facetable=True, filterable=True, sortable=True),\n",
        "        SimpleField(name=\"Rating\", type=SearchFieldDataType.Double, facetable=True, filterable=True, sortable=True),\n",
        "\n",
        "        ComplexField(name=\"Address\", fields=[\n",
        "            SearchableField(name=\"StreetAddress\", type=SearchFieldDataType.String),\n",
        "            SearchableField(name=\"City\", type=SearchFieldDataType.String, facetable=True, filterable=True, sortable=True),\n",
        "            SearchableField(name=\"StateProvince\", type=SearchFieldDataType.String, facetable=True, filterable=True, sortable=True),\n",
        "            SearchableField(name=\"PostalCode\", type=SearchFieldDataType.String, facetable=True, filterable=True, sortable=True),\n",
        "            SearchableField(name=\"Country\", type=SearchFieldDataType.String, facetable=True, filterable=True, sortable=True),\n",
        "        ])\n",
        "    ]\n",
        "\n",
        "scoring_profiles = []\n",
        "suggester = [{'name': 'sg', 'source_fields': ['Tags', 'Address/City', 'Address/Country']}]\n",
        "\n",
        "# Create the search index=\n",
        "index = SearchIndex(name=index_name, fields=fields, suggesters=suggester, scoring_profiles=scoring_profiles)\n",
        "result = index_client.create_or_update_index(index)\n",
        "print(f' {result.name} created')"
      ]
    },
    {
      "cell_type": "markdown",
      "metadata": {
        "id": "Zqhlqg5VuANM"
      },
      "source": [
        "## Create a documents payload"
      ]
    },
    {
      "cell_type": "code",
      "execution_count": 4,
      "metadata": {
        "id": "0SDhVtN6uANM"
      },
      "outputs": [],
      "source": [
        "# Create a documents payload\n",
        "documents = [\n",
        "    {\n",
        "    \"@search.action\": \"upload\",\n",
        "    \"HotelId\": \"1\",\n",
        "    \"HotelName\": \"Secret Point Motel\",\n",
        "    \"Description\": \"The hotel is ideally located on the main commercial artery of the city in the heart of New York. A few minutes away is Time's Square and the historic centre of the city, as well as other places of interest that make New York one of America's most attractive and cosmopolitan cities.\",\n",
        "    \"Description_fr\": \"L'hôtel est idéalement situé sur la principale artère commerciale de la ville en plein cœur de New York. A quelques minutes se trouve la place du temps et le centre historique de la ville, ainsi que d'autres lieux d'intérêt qui font de New York l'une des villes les plus attractives et cosmopolites de l'Amérique.\",\n",
        "    \"Category\": \"Boutique\",\n",
        "    \"Tags\": [ \"pool\", \"air conditioning\", \"concierge\" ],\n",
        "    \"ParkingIncluded\": \"false\",\n",
        "    \"LastRenovationDate\": \"1970-01-18T00:00:00Z\",\n",
        "    \"Rating\": 3.60,\n",
        "    \"Address\": {\n",
        "        \"StreetAddress\": \"677 5th Ave\",\n",
        "        \"City\": \"New York\",\n",
        "        \"StateProvince\": \"NY\",\n",
        "        \"PostalCode\": \"10022\",\n",
        "        \"Country\": \"USA\"\n",
        "        }\n",
        "    },\n",
        "    {\n",
        "    \"@search.action\": \"upload\",\n",
        "    \"HotelId\": \"2\",\n",
        "    \"HotelName\": \"Twin Dome Motel\",\n",
        "    \"Description\": \"The hotel is situated in a  nineteenth century plaza, which has been expanded and renovated to the highest architectural standards to create a modern, functional and first-class hotel in which art and unique historical elements coexist with the most modern comforts.\",\n",
        "    \"Description_fr\": \"L'hôtel est situé dans une place du XIXe siècle, qui a été agrandie et rénovée aux plus hautes normes architecturales pour créer un hôtel moderne, fonctionnel et de première classe dans lequel l'art et les éléments historiques uniques coexistent avec le confort le plus moderne.\",\n",
        "    \"Category\": \"Boutique\",\n",
        "    \"Tags\": [ \"pool\", \"free wifi\", \"concierge\" ],\n",
        "    \"ParkingIncluded\": \"false\",\n",
        "    \"LastRenovationDate\": \"1979-02-18T00:00:00Z\",\n",
        "    \"Rating\": 3.60,\n",
        "    \"Address\": {\n",
        "        \"StreetAddress\": \"140 University Town Center Dr\",\n",
        "        \"City\": \"Sarasota\",\n",
        "        \"StateProvince\": \"FL\",\n",
        "        \"PostalCode\": \"34243\",\n",
        "        \"Country\": \"USA\"\n",
        "        }\n",
        "    },\n",
        "    {\n",
        "    \"@search.action\": \"upload\",\n",
        "    \"HotelId\": \"3\",\n",
        "    \"HotelName\": \"Triple Landscape Hotel\",\n",
        "    \"Description\": \"The Hotel stands out for its gastronomic excellence under the management of William Dough, who advises on and oversees all of the Hotel's restaurant services.\",\n",
        "    \"Description_fr\": \"L'hôtel est situé dans une place du XIXe siècle, qui a été agrandie et rénovée aux plus hautes normes architecturales pour créer un hôtel moderne, fonctionnel et de première classe dans lequel l'art et les éléments historiques uniques coexistent avec le confort le plus moderne.\",\n",
        "    \"Category\": \"Resort and Spa\",\n",
        "    \"Tags\": [ \"air conditioning\", \"bar\", \"continental breakfast\" ],\n",
        "    \"ParkingIncluded\": \"true\",\n",
        "    \"LastRenovationDate\": \"2015-09-20T00:00:00Z\",\n",
        "    \"Rating\": 4.80,\n",
        "    \"Address\": {\n",
        "        \"StreetAddress\": \"3393 Peachtree Rd\",\n",
        "        \"City\": \"Atlanta\",\n",
        "        \"StateProvince\": \"GA\",\n",
        "        \"PostalCode\": \"30326\",\n",
        "        \"Country\": \"USA\"\n",
        "        }\n",
        "    },\n",
        "    {\n",
        "    \"@search.action\": \"upload\",\n",
        "    \"HotelId\": \"4\",\n",
        "    \"HotelName\": \"Sublime Cliff Hotel\",\n",
        "    \"Description\": \"Sublime Cliff Hotel is located in the heart of the historic center of Sublime in an extremely vibrant and lively area within short walking distance to the sites and landmarks of the city and is surrounded by the extraordinary beauty of churches, buildings, shops and monuments. Sublime Cliff is part of a lovingly restored 1800 palace.\",\n",
        "    \"Description_fr\": \"Le sublime Cliff Hotel est situé au coeur du centre historique de sublime dans un quartier extrêmement animé et vivant, à courte distance de marche des sites et monuments de la ville et est entouré par l'extraordinaire beauté des églises, des bâtiments, des commerces et Monuments. Sublime Cliff fait partie d'un Palace 1800 restauré avec amour.\",\n",
        "    \"Category\": \"Boutique\",\n",
        "    \"Tags\": [ \"concierge\", \"view\", \"24-hour front desk service\" ],\n",
        "    \"ParkingIncluded\": \"true\",\n",
        "    \"LastRenovationDate\": \"1960-02-06T00:00:00Z\",\n",
        "    \"Rating\": 4.60,\n",
        "    \"Address\": {\n",
        "        \"StreetAddress\": \"7400 San Pedro Ave\",\n",
        "        \"City\": \"San Antonio\",\n",
        "        \"StateProvince\": \"TX\",\n",
        "        \"PostalCode\": \"78216\",\n",
        "        \"Country\": \"USA\"\n",
        "        }\n",
        "    }\n",
        "]"
      ]
    },
    {
      "cell_type": "markdown",
      "metadata": {
        "id": "zAuNkDSBuANM"
      },
      "source": [
        "## Upload documents"
      ]
    },
    {
      "cell_type": "code",
      "execution_count": 5,
      "metadata": {
        "colab": {
          "base_uri": "https://localhost:8080/"
        },
        "id": "WcB0gpmOuANM",
        "outputId": "31635f95-f242-4885-c567-e892223cac4d"
      },
      "outputs": [
        {
          "name": "stdout",
          "output_type": "stream",
          "text": [
            "Upload of new document succeeded: True\n"
          ]
        }
      ],
      "source": [
        "search_client = SearchClient(endpoint=search_endpoint,\n",
        "                      index_name=index_name,\n",
        "                      credential=credential)\n",
        "try:\n",
        "    result = search_client.upload_documents(documents=documents)\n",
        "    print(\"Upload of new document succeeded: {}\".format(result[0].succeeded))\n",
        "except Exception as ex:\n",
        "    print (ex.message)\n",
        "\n",
        "    index_client = SearchIndexClient(\n",
        "    endpoint=search_endpoint, credential=credential)"
      ]
    },
    {
      "cell_type": "markdown",
      "metadata": {
        "id": "5M3sFeP5uANN"
      },
      "source": [
        "## Run your first query"
      ]
    },
    {
      "cell_type": "code",
      "execution_count": 6,
      "metadata": {
        "colab": {
          "base_uri": "https://localhost:8080/"
        },
        "id": "HYwvIiCVuANN",
        "outputId": "dabf37f9-05b0-496b-c734-768a3057389e"
      },
      "outputs": [
        {
          "name": "stdout",
          "output_type": "stream",
          "text": [
            "Total Documents Matching Query: 4\n",
            "1.0\n",
            "Secret Point Motel\n",
            "Description: The hotel is ideally located on the main commercial artery of the city in the heart of New York. A few minutes away is Time's Square and the historic centre of the city, as well as other places of interest that make New York one of America's most attractive and cosmopolitan cities.\n",
            "1.0\n",
            "Twin Dome Motel\n",
            "Description: The hotel is situated in a  nineteenth century plaza, which has been expanded and renovated to the highest architectural standards to create a modern, functional and first-class hotel in which art and unique historical elements coexist with the most modern comforts.\n",
            "1.0\n",
            "Triple Landscape Hotel\n",
            "Description: The Hotel stands out for its gastronomic excellence under the management of William Dough, who advises on and oversees all of the Hotel's restaurant services.\n",
            "1.0\n",
            "Sublime Cliff Hotel\n",
            "Description: Sublime Cliff Hotel is located in the heart of the historic center of Sublime in an extremely vibrant and lively area within short walking distance to the sites and landmarks of the city and is surrounded by the extraordinary beauty of churches, buildings, shops and monuments. Sublime Cliff is part of a lovingly restored 1800 palace.\n"
          ]
        }
      ],
      "source": [
        "# Run an empty query (returns selected fields, all documents)\n",
        "results =  search_client.search(query_type='simple',\n",
        "    search_text=\"*\" ,\n",
        "    select='HotelName,Description',\n",
        "    include_total_count=True)\n",
        "\n",
        "print ('Total Documents Matching Query:', results.get_count())\n",
        "for result in results:\n",
        "    print(result[\"@search.score\"])\n",
        "    print(result[\"HotelName\"])\n",
        "    print(f\"Description: {result['Description']}\")\n"
      ]
    },
    {
      "cell_type": "markdown",
      "metadata": {
        "id": "2osNWGeMuANN"
      },
      "source": [
        "## Run a term query"
      ]
    },
    {
      "cell_type": "code",
      "execution_count": 7,
      "metadata": {
        "colab": {
          "base_uri": "https://localhost:8080/"
        },
        "id": "EfoqcOvyuANN",
        "outputId": "06a12ec5-138b-4307-e074-cb2e90975752"
      },
      "outputs": [
        {
          "name": "stdout",
          "output_type": "stream",
          "text": [
            "Total Documents Matching Query: 1\n",
            "1.3112576\n",
            "Twin Dome Motel\n",
            "Description: The hotel is situated in a  nineteenth century plaza, which has been expanded and renovated to the highest architectural standards to create a modern, functional and first-class hotel in which art and unique historical elements coexist with the most modern comforts.\n"
          ]
        }
      ],
      "source": [
        "# Run a term query\n",
        "results =  search_client.search(query_type='simple',\n",
        "    search_text=\"wifi\" ,\n",
        "    select='HotelName,Description,Tags',\n",
        "    include_total_count=True)\n",
        "\n",
        "print ('Total Documents Matching Query:', results.get_count())\n",
        "for result in results:\n",
        "    print(result[\"@search.score\"])\n",
        "    print(result[\"HotelName\"])\n",
        "    print(f\"Description: {result['Description']}\")"
      ]
    },
    {
      "cell_type": "markdown",
      "metadata": {
        "id": "O3k8IEmMuANN"
      },
      "source": [
        "## Add a filter"
      ]
    },
    {
      "cell_type": "code",
      "execution_count": 9,
      "metadata": {
        "colab": {
          "base_uri": "https://localhost:8080/"
        },
        "id": "12XzTmI7uANN",
        "outputId": "3b191b23-0dd9-4200-d75c-8ee721134d77"
      },
      "outputs": [
        {
          "name": "stdout",
          "output_type": "stream",
          "text": [
            "3: Triple Landscape Hotel - 4.8 rating\n",
            "4: Sublime Cliff Hotel - 4.6 rating\n"
          ]
        }
      ],
      "source": [
        "# Add a filter\n",
        "results = search_client.search(\n",
        "    search_text=\"hotels\",\n",
        "    select='HotelId,HotelName,Rating',\n",
        "    filter='Rating gt 4',\n",
        "    order_by='Rating desc')\n",
        "\n",
        "for result in results:\n",
        "    print(\"{}: {} - {} rating\".format(result[\"HotelId\"], result[\"HotelName\"], result[\"Rating\"]))"
      ]
    },
    {
      "cell_type": "markdown",
      "metadata": {
        "id": "p1UtZ8aVuANO"
      },
      "source": [
        "## Scope a query to specific searchable fields"
      ]
    },
    {
      "cell_type": "code",
      "execution_count": 10,
      "metadata": {
        "colab": {
          "base_uri": "https://localhost:8080/"
        },
        "id": "o63YpYhbuANO",
        "outputId": "720adb2d-275d-4299-c9db-5530f2a51a5b"
      },
      "outputs": [
        {
          "name": "stdout",
          "output_type": "stream",
          "text": [
            "4: Sublime Cliff Hotel\n"
          ]
        }
      ],
      "source": [
        "results = search_client.search(\n",
        "    search_text=\"sublime\",\n",
        "    search_fields=['HotelName'],\n",
        "    select='HotelId,HotelName')\n",
        "\n",
        "for result in results:\n",
        "    print(\"{}: {}\".format(result[\"HotelId\"], result[\"HotelName\"]))"
      ]
    },
    {
      "cell_type": "markdown",
      "metadata": {
        "id": "tpWZiB78uANO"
      },
      "source": [
        "## Return facets"
      ]
    },
    {
      "cell_type": "code",
      "execution_count": 11,
      "metadata": {
        "colab": {
          "base_uri": "https://localhost:8080/"
        },
        "id": "OH01SlyHuANO",
        "outputId": "805b15a2-d9fc-4312-b902-7992f76b37a4"
      },
      "outputs": [
        {
          "name": "stdout",
          "output_type": "stream",
          "text": [
            "    {'value': 'Boutique', 'count': 3}\n",
            "    {'value': 'Resort and Spa', 'count': 1}\n"
          ]
        }
      ],
      "source": [
        "# Return facets\n",
        "results = search_client.search(search_text=\"*\", facets=[\"Category\"])\n",
        "\n",
        "facets = results.get_facets()\n",
        "\n",
        "for facet in facets[\"Category\"]:\n",
        "    print(\"    {}\".format(facet))"
      ]
    },
    {
      "cell_type": "markdown",
      "metadata": {
        "id": "cfh_IP-quANO"
      },
      "source": [
        "## Look up a document"
      ]
    },
    {
      "cell_type": "code",
      "execution_count": 12,
      "metadata": {
        "colab": {
          "base_uri": "https://localhost:8080/"
        },
        "id": "pyn9twPMuANO",
        "outputId": "0e8f9698-9b28-4c0e-b9f0-bd676e4fdbe2"
      },
      "outputs": [
        {
          "name": "stdout",
          "output_type": "stream",
          "text": [
            "Details for hotel '3' are:\n",
            "Name: Triple Landscape Hotel\n",
            "Rating: 4.8\n",
            "Category: Resort and Spa\n"
          ]
        }
      ],
      "source": [
        "# Look up a specific document by ID\n",
        "result = search_client.get_document(key=\"3\")\n",
        "\n",
        "print(\"Details for hotel '3' are:\")\n",
        "print(\"Name: {}\".format(result[\"HotelName\"]))\n",
        "print(\"Rating: {}\".format(result[\"Rating\"]))\n",
        "print(\"Category: {}\".format(result[\"Category\"]))"
      ]
    },
    {
      "cell_type": "markdown",
      "metadata": {
        "id": "6Qy7kELauANO"
      },
      "source": [
        "## Autocomplete a query"
      ]
    },
    {
      "cell_type": "code",
      "execution_count": 13,
      "metadata": {
        "colab": {
          "base_uri": "https://localhost:8080/"
        },
        "id": "PVVvDaWeuANO",
        "outputId": "7fa40bdb-1267-4d85-fed1-040eb83d2fe3"
      },
      "outputs": [
        {
          "name": "stdout",
          "output_type": "stream",
          "text": [
            "Autocomplete for: sa\n",
            "san antonio\n",
            "sarasota\n"
          ]
        }
      ],
      "source": [
        "# Autocomplete a query\n",
        "search_suggestion = 'sa'\n",
        "results = search_client.autocomplete(\n",
        "    search_text=search_suggestion,\n",
        "    suggester_name=\"sg\",\n",
        "    mode='twoTerms')\n",
        "\n",
        "print(\"Autocomplete for:\", search_suggestion)\n",
        "for result in results:\n",
        "    print (result['text'])"
      ]
    },
    {
      "cell_type": "markdown",
      "metadata": {
        "id": "YBMHeCVSuANO"
      },
      "source": [
        "## Clean up\n",
        "\n",
        "If you are finished with this index, you can delete it by running the following lines. Deleting unnecessary indexes frees up space for stepping through more quickstarts and tutorials."
      ]
    },
    {
      "cell_type": "code",
      "execution_count": 14,
      "metadata": {
        "colab": {
          "base_uri": "https://localhost:8080/"
        },
        "id": "e8-mBUmWuANO",
        "outputId": "305264c9-4a4a-4639-c2d9-6f559da4ee72"
      },
      "outputs": [
        {
          "name": "stdout",
          "output_type": "stream",
          "text": [
            "Index hotels-quickstart Deleted\n"
          ]
        }
      ],
      "source": [
        "try:\n",
        "    result = index_client.delete_index(index_name)\n",
        "    print ('Index', index_name, 'Deleted')\n",
        "except Exception as ex:\n",
        "    print (ex)"
      ]
    },
    {
      "cell_type": "markdown",
      "metadata": {
        "id": "csQEetZXuANP"
      },
      "source": [
        "Confirm the index deletion by running the following script that lists all of the indexes on your search service. If hotels-quickstart is not listed, you've successfully deleted the index and have completed this quickstart."
      ]
    },
    {
      "cell_type": "code",
      "execution_count": 15,
      "metadata": {
        "colab": {
          "base_uri": "https://localhost:8080/"
        },
        "id": "6XfsAu5vuANP",
        "outputId": "c6cef90d-0bff-4864-eb4d-713ffc8fdd9a"
      },
      "outputs": [
        {
          "name": "stdout",
          "output_type": "stream",
          "text": [
            "() No index with the name 'hotels-quickstart' was found in the service 'anshusearch'.\n",
            "Code: \n",
            "Message: No index with the name 'hotels-quickstart' was found in the service 'anshusearch'.\n"
          ]
        }
      ],
      "source": [
        "try:\n",
        "    result = index_client.get_index(index_name)\n",
        "    print (result)\n",
        "except Exception as ex:\n",
        "    print (ex)\n"
      ]
    },
    {
      "cell_type": "code",
      "execution_count": null,
      "metadata": {
        "id": "qHrnxuosvsJH"
      },
      "outputs": [],
      "source": []
    }
  ],
  "metadata": {
    "colab": {
      "provenance": []
    },
    "kernelspec": {
      "display_name": "Python 3",
      "language": "python",
      "name": "python3"
    },
    "language_info": {
      "codemirror_mode": {
        "name": "ipython",
        "version": 3
      },
      "file_extension": ".py",
      "mimetype": "text/x-python",
      "name": "python",
      "nbconvert_exporter": "python",
      "pygments_lexer": "ipython3",
      "version": "3.10.9"
    },
    "vscode": {
      "interpreter": {
        "hash": "9ff083f0c83558f9261023d47a77b9b3eb892c62cdbe066d046abcad1a5edb5c"
      }
    }
  },
  "nbformat": 4,
  "nbformat_minor": 0
}
